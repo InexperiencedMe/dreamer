{
 "cells": [
  {
   "cell_type": "code",
   "execution_count": 1,
   "metadata": {},
   "outputs": [],
   "source": [
    "import torch\n",
    "import torch.nn as nn\n",
    "import torch.functional as F\n",
    "from utils import *\n",
    "\n",
    "# Neural Networks\n",
    "class SequenceModel(nn.Module):\n",
    "    def __init__(self, representationSize, actionSize, recurrentStateSize):\n",
    "        super().__init__()\n",
    "        self.representationSize = representationSize\n",
    "        self.actionSize = actionSize\n",
    "        self.recurrentStateSize = recurrentStateSize\n",
    "        self.recurrent = nn.GRUCell(representationSize + actionSize, recurrentStateSize)\n",
    "\n",
    "    def forward(self, representation, action, recurrentState):\n",
    "        return self.recurrent(torch.cat((representation, action), -1), recurrentState)\n",
    "    \n",
    "    def initializeRecurrentState(self):\n",
    "        return torch.zeros(self.recurrentStateSize)\n",
    "\n",
    "class PriorNet(nn.Module):\n",
    "    def __init__(self, inputSize, representationClasses=16):\n",
    "        super().__init__()\n",
    "        self.representationSize = representationClasses\n",
    "        self.mlp = sequentialModel1D(inputSize, [256, 256], representationClasses**2)\n",
    "    \n",
    "    def forward(self, x):\n",
    "        logits = self.mlp(x)\n",
    "        stateMatrix = logits.view(-1, self.representationSize, self.representationSize)\n",
    "        _, indices = torch.max(stateMatrix, dim=-1)\n",
    "        representation = F.one_hot(indices, num_classes=self.representationSize)\n",
    "        return representation.view(-1), logits\n",
    "    \n",
    "class PosteriorNet(nn.Module):\n",
    "    def __init__(self, inputSize, representationClasses=16):\n",
    "        super().__init__()\n",
    "        self.representationSize = representationClasses\n",
    "        self.mlp = sequentialModel1D(inputSize, [256, 256], representationClasses**2)\n",
    "    \n",
    "    def forward(self, x):\n",
    "        logits = self.mlp(x)\n",
    "        stateMatrix = logits.view(-1, self.representationSize, self.representationSize)\n",
    "        _, indices = torch.max(stateMatrix, dim=-1)\n",
    "        representation = F.one_hot(indices, num_classes=self.representationSize)\n",
    "        return representation.view(-1), logits\n",
    "\n",
    "class ConvEncoder(nn.Module):\n",
    "    def __init__(self, inputShape, outputSize):\n",
    "        super(ConvEncoder, self).__init__()\n",
    "        c, h, w = inputShape\n",
    "        self.convolutionalNet = nn.Sequential(\n",
    "            nn.Conv2d(c, 32, kernel_size=4, stride=2, padding=1),  # Output: (32, h/2, w/2)\n",
    "            nn.Tanh(),\n",
    "            nn.Conv2d(32, 64, kernel_size=4, stride=2, padding=1),  # Output: (64, h/4, w/4)\n",
    "            nn.Tanh(),\n",
    "            nn.Conv2d(64, 128, kernel_size=4, stride=2, padding=1),  # Output: (128, h/8, w/8)\n",
    "            nn.Tanh(),\n",
    "            nn.Conv2d(128, 256, kernel_size=4, stride=2, padding=1),  # Output: (256, h/16, w/16)\n",
    "            nn.Tanh(),\n",
    "            nn.Flatten(),\n",
    "            nn.Linear(256 * (h // 16) * (w // 16), outputSize),\n",
    "            nn.Tanh(),\n",
    "        )\n",
    "\n",
    "    def forward(self, obs):\n",
    "        return self.convolutionalNet(obs/255.0)\n",
    "\n",
    "class ConvDecoder(nn.Module):\n",
    "    def __init__(self, inputSize, outputShape):\n",
    "        super(ConvDecoder, self).__init__()\n",
    "        self.outputShape = outputShape\n",
    "        c, h, w = outputShape\n",
    "        self.fc = nn.Sequential(\n",
    "            nn.Linear(inputSize, 256 * (h // 16) * (w // 16)),\n",
    "            nn.Tanh(),\n",
    "        )\n",
    "        self.deconvolutionalNet = nn.Sequential(\n",
    "            nn.ConvTranspose2d(256, 128, kernel_size=4, stride=2, padding=1),  # Output: (128, h/8, w/8)\n",
    "            nn.Tanh(),\n",
    "            nn.ConvTranspose2d(128, 64, kernel_size=4, stride=2, padding=1),  # Output: (64, h/4, w/4)\n",
    "            nn.Tanh(),\n",
    "            nn.ConvTranspose2d(64, 32, kernel_size=4, stride=2, padding=1),  # Output: (32, h/2, w/2)\n",
    "            nn.Tanh(),\n",
    "            nn.ConvTranspose2d(32, c, kernel_size=4, stride=2, padding=1),  # Output: (c, h, w)\n",
    "            nn.Sigmoid(),  # Output pixel values between 0 and 1\n",
    "        )\n",
    "\n",
    "    def forward(self, x):\n",
    "        x = self.fc(x)\n",
    "        batchSize = x.size(0)\n",
    "        c, h, w = 256, self.outputShape[1] // 16, self.outputShape[2] // 16\n",
    "        x = x.view(batchSize, c, h, w)\n",
    "        return self.deconvolutionalNet(x)\n"
   ]
  },
  {
   "cell_type": "code",
   "execution_count": 2,
   "metadata": {},
   "outputs": [],
   "source": [
    "import torch\n",
    "import torch.nn as nn\n",
    "import torch.functional as F\n",
    "from utils import *\n",
    "import pickle\n",
    "device = torch.device(\"cuda\" if torch.cuda.is_available() else \"cpu\")\n",
    "\n",
    "with open('episode_0_data.pkl', 'rb') as f:\n",
    "    data = pickle.load(f)\n",
    "observations = data['observations'].to(device)\n",
    "actions = data['actions'].float().to(device)\n",
    "episodeLength = len(actions)\n",
    "\n",
    "representationClasses = 16\n",
    "representationSize = representationClasses ** 2\n",
    "actionSize = 3\n",
    "recurrentStateSize = 256\n",
    "compressedObservationsSize = 256\n",
    "obsShape = (3, 96, 96)\n",
    "\n",
    "convEncoder     = ConvEncoder(obsShape, compressedObservationsSize).to(device)\n",
    "convDecoder     = ConvDecoder(representationSize + recurrentStateSize, obsShape).to(device)\n",
    "sequenceModel   = SequenceModel(representationSize, actionSize, recurrentStateSize).to(device)\n",
    "priorNet        = PriorNet(recurrentStateSize, representationClasses).to(device)\n",
    "posteriorNet    = PosteriorNet(recurrentStateSize + compressedObservationsSize, representationClasses).to(device)"
   ]
  },
  {
   "cell_type": "code",
   "execution_count": 9,
   "metadata": {},
   "outputs": [],
   "source": [
    "encodedObservations = convEncoder(observations)\n",
    "recurrentState = sequenceModel.initializeRecurrentState().to(device)\n",
    "\n",
    "posteriorNetOutputs = []\n",
    "recurrentStates = [recurrentState]\n",
    "priorNetLogits = []\n",
    "posteriorNetLogits = []\n",
    "\n",
    "for timestep in range(episodeLength):\n",
    "    posteriorNetOutput, posteriorNetCurrentLogits = posteriorNet(torch.cat((recurrentStates[timestep], encodedObservations[timestep]), -1))\n",
    "    posteriorNetOutputs.append(posteriorNetOutput)\n",
    "    posteriorNetLogits.append(posteriorNetCurrentLogits)\n",
    "\n",
    "    recurrentState = sequenceModel(posteriorNetOutputs[timestep].detach(), actions[timestep], recurrentStates[timestep])\n",
    "    recurrentStates.append(recurrentState)\n",
    "\n",
    "    _, priorNetCurrentLogits = priorNet(recurrentStates[timestep])\n",
    "    priorNetLogits.append(priorNetCurrentLogits)\n",
    "\n",
    "posteriorNetOutputs = torch.stack(posteriorNetOutputs)  # [episodeLength    , representationSize]\n",
    "recurrentStates = torch.stack(recurrentStates)          # [episodeLength + 1, recurrentStateSize]\n",
    "priorNetLogits = torch.stack(priorNetLogits)            # [episodeLength    , representationSize]\n",
    "posteriorNetLogits = torch.stack(posteriorNetLogits)      # [episodeLength    , representationSize]\n",
    "fullStateRepresentations = torch.cat((recurrentStates[1:], posteriorNetOutputs), -1)\n",
    "\n",
    "reconstructedObservations = convDecoder(fullStateRepresentations)\n",
    "\n",
    "reconstructionLoss = F.mse_loss(reconstructedObservations, observations[1:], reduction=\"none\").mean(dim=[-1, -2, -3]).mean() # why is it 255 and 256. In theory we should be able to reconstruct all 256\n",
    "priorNetLoss = F.mse_loss(priorNetLogits, posteriorNetLogits.detach())\n"
   ]
  },
  {
   "cell_type": "code",
   "execution_count": 14,
   "metadata": {},
   "outputs": [
    {
     "data": {
      "text/plain": [
       "torch.Size([255])"
      ]
     },
     "execution_count": 15,
     "metadata": {},
     "output_type": "execute_result"
    }
   ],
   "source": [
    "reconstructionLoss.mean(dim=[-1, -2, -3]).mean().shape"
   ]
  },
  {
   "cell_type": "code",
   "execution_count": 7,
   "metadata": {},
   "outputs": [
    {
     "data": {
      "text/plain": [
       "torch.Size([256, 3, 96, 96])"
      ]
     },
     "execution_count": 7,
     "metadata": {},
     "output_type": "execute_result"
    }
   ],
   "source": [
    "observations.shape"
   ]
  },
  {
   "cell_type": "code",
   "execution_count": 5,
   "metadata": {},
   "outputs": [
    {
     "data": {
      "image/png": "[encoded data removed]",
      "text/plain": [
       "<Figure size 640x480 with 1 Axes>"
      ]
     },
     "metadata": {},
     "output_type": "display_data"
    }
   ],
   "source": [
    "displayImage(np.transpose(observations.cpu().numpy()[50], (1, 2, 0)))"
   ]
  }
 ],
 "metadata": {
  "kernelspec": {
   "display_name": "venv",
   "language": "python",
   "name": "python3"
  },
  "language_info": {
   "codemirror_mode": {
    "name": "ipython",
    "version": 3
   },
   "file_extension": ".py",
   "mimetype": "text/x-python",
   "name": "python",
   "nbconvert_exporter": "python",
   "pygments_lexer": "ipython3",
   "version": "3.12.3"
  }
 },
 "nbformat": 4,
 "nbformat_minor": 2
}
