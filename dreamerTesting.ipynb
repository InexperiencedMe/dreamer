{
 "cells": [
  {
   "cell_type": "code",
   "execution_count": 1,
   "metadata": {},
   "outputs": [],
   "source": [
    "import torch\n",
    "import torch.nn as nn\n",
    "import torch.functional as F\n",
    "from utils import *\n",
    "\n",
    "class SequenceModel(nn.Module):\n",
    "    def __init__(self, representationSize, actionSize, recurrentStateSize):\n",
    "        super().__init__()\n",
    "        self.representationSize = representationSize\n",
    "        self.actionSize = actionSize\n",
    "        self.recurrentStateSize = recurrentStateSize\n",
    "        self.recurrent = nn.GRUCell(representationSize + actionSize, recurrentStateSize)\n",
    "\n",
    "    def forward(self, representation, action, recurrentState):\n",
    "        return self.recurrent(torch.cat((representation, action), -1), recurrentState)\n",
    "    \n",
    "    def initializeRecurrentState(self):\n",
    "        return torch.zeros(self.recurrentStateSize)\n",
    "\n",
    "class PriorNet(nn.Module):\n",
    "    def __init__(self, inputSize, representationClasses=16):\n",
    "        super().__init__()\n",
    "        self.representationSize = representationClasses\n",
    "        self.mlp = sequentialModel1D(inputSize, [256, 256], representationClasses**2)\n",
    "    \n",
    "    def forward(self, x):\n",
    "        logits = self.mlp(x)\n",
    "        stateMatrix = logits.view(-1, self.representationSize, self.representationSize)\n",
    "        _, indices = torch.max(stateMatrix, dim=-1)\n",
    "        representation = F.one_hot(indices, num_classes=self.representationSize)\n",
    "        return representation.view(-1), logits\n",
    "    \n",
    "class PosteriorNet(nn.Module):\n",
    "    def __init__(self, inputSize, representationClasses=16):\n",
    "        super().__init__()\n",
    "        self.representationSize = representationClasses\n",
    "        self.mlp = sequentialModel1D(inputSize, [256, 256], representationClasses**2)\n",
    "    \n",
    "    def forward(self, x):\n",
    "        logits = self.mlp(x)\n",
    "        stateMatrix = logits.view(-1, self.representationSize, self.representationSize)\n",
    "        _, indices = torch.max(stateMatrix, dim=-1)\n",
    "        representation = F.one_hot(indices, num_classes=self.representationSize)\n",
    "        return representation.view(-1), logits\n",
    "\n",
    "class ConvEncoder(nn.Module):\n",
    "    def __init__(self, inputShape, outputSize):\n",
    "        super(ConvEncoder, self).__init__()\n",
    "        c, h, w = inputShape\n",
    "        self.convolutionalNet = nn.Sequential(\n",
    "            nn.Conv2d(c, 32, kernel_size=4, stride=2, padding=1),  # Output: (32, h/2, w/2)\n",
    "            nn.Tanh(),\n",
    "            nn.Conv2d(32, 64, kernel_size=4, stride=2, padding=1),  # Output: (64, h/4, w/4)\n",
    "            nn.Tanh(),\n",
    "            nn.Conv2d(64, 128, kernel_size=4, stride=2, padding=1),  # Output: (128, h/8, w/8)\n",
    "            nn.Tanh(),\n",
    "            nn.Conv2d(128, 256, kernel_size=4, stride=2, padding=1),  # Output: (256, h/16, w/16)\n",
    "            nn.Tanh(),\n",
    "            nn.Flatten(),\n",
    "            nn.Linear(256 * (h // 16) * (w // 16), outputSize),\n",
    "            nn.Tanh(),\n",
    "        )\n",
    "\n",
    "    def forward(self, obs):\n",
    "        return self.convolutionalNet(obs.float())\n",
    "\n",
    "class ConvDecoder(nn.Module):\n",
    "    def __init__(self, inputSize, outputShape):\n",
    "        super(ConvDecoder, self).__init__()\n",
    "        self.outputShape = outputShape\n",
    "        c, h, w = outputShape\n",
    "        self.fc = nn.Sequential(\n",
    "            nn.Linear(inputSize, 256 * (h // 16) * (w // 16)),\n",
    "            nn.Tanh(),\n",
    "        )\n",
    "        self.deconvolutionalNet = nn.Sequential(\n",
    "            nn.ConvTranspose2d(256, 128, kernel_size=4, stride=2, padding=1),  # Output: (128, h/8, w/8)\n",
    "            nn.Tanh(),\n",
    "            nn.ConvTranspose2d(128, 64, kernel_size=4, stride=2, padding=1),  # Output: (64, h/4, w/4)\n",
    "            nn.Tanh(),\n",
    "            nn.ConvTranspose2d(64, 32, kernel_size=4, stride=2, padding=1),  # Output: (32, h/2, w/2)\n",
    "            nn.Tanh(),\n",
    "            nn.ConvTranspose2d(32, c, kernel_size=4, stride=2, padding=1),  # Output: (c, h, w)\n",
    "            nn.Sigmoid(),  # Output pixel values between 0 and 1\n",
    "        )\n",
    "\n",
    "    def forward(self, x):\n",
    "        x = self.fc(x)\n",
    "        batchSize = x.size(0)\n",
    "        c, h, w = 256, self.outputShape[1] // 16, self.outputShape[2] // 16\n",
    "        x = x.view(batchSize, c, h, w)\n",
    "        return (self.deconvolutionalNet(x))\n",
    "\n",
    "class RewardPredictor(nn.Module):\n",
    "    def __init__(self, inputSize):\n",
    "        super(RewardPredictor, self).__init__()\n",
    "        self.mlp = sequentialModel1D(inputSize, [256, 256], 1)\n",
    "\n",
    "    def forward(self, x):\n",
    "        return self.mlp(x)"
   ]
  },
  {
   "cell_type": "code",
   "execution_count": 2,
   "metadata": {},
   "outputs": [],
   "source": [
    "import torch\n",
    "import torch.nn as nn\n",
    "import torch.functional as F\n",
    "import torch.optim as optim\n",
    "from utils import *\n",
    "import pickle\n",
    "device = torch.device(\"cuda\" if torch.cuda.is_available() else \"cpu\")\n",
    "\n",
    "representationClasses = 16\n",
    "representationSize = representationClasses ** 2\n",
    "actionSize = 3\n",
    "recurrentStateSize = 256\n",
    "compressedObservationsSize = 256\n",
    "obsShape = (3, 96, 96)\n",
    "numUpdates = 10\n",
    "\n",
    "convEncoder     = ConvEncoder(obsShape, compressedObservationsSize).to(device)\n",
    "convDecoder     = ConvDecoder(representationSize + recurrentStateSize, obsShape).to(device)\n",
    "sequenceModel   = SequenceModel(representationSize, actionSize, recurrentStateSize).to(device)\n",
    "priorNet        = PriorNet(recurrentStateSize, representationClasses).to(device)\n",
    "posteriorNet    = PosteriorNet(recurrentStateSize + compressedObservationsSize, representationClasses).to(device)\n",
    "rewardPredictor = RewardPredictor(recurrentStateSize + representationSize).to(device)\n",
    "\n",
    "worldModelOptimizer = optim.AdamW(\n",
    "    list(convEncoder.parameters()) + \n",
    "    list(convDecoder.parameters()) + \n",
    "    list(sequenceModel.parameters()) + \n",
    "    list(priorNet.parameters()) + \n",
    "    list(posteriorNet.parameters()) +\n",
    "    list(rewardPredictor.parameters()), \n",
    "    lr=1e-3\n",
    ")"
   ]
  },
  {
   "cell_type": "code",
   "execution_count": null,
   "metadata": {},
   "outputs": [
    {
     "name": "stdout",
     "output_type": "stream",
     "text": [
      "fullStateRepresentations shape torch.Size([255, 512]) before passing to decoder\n",
      "fullStateRepresentations shape torch.Size([255, 512]) before passing to decoder\n",
      "fullStateRepresentations shape torch.Size([255, 512]) before passing to decoder\n",
      "fullStateRepresentations shape torch.Size([255, 512]) before passing to decoder\n",
      "fullStateRepresentations shape torch.Size([255, 512]) before passing to decoder\n",
      "fullStateRepresentations shape torch.Size([255, 512]) before passing to decoder\n",
      "fullStateRepresentations shape torch.Size([255, 512]) before passing to decoder\n",
      "fullStateRepresentations shape torch.Size([255, 512]) before passing to decoder\n",
      "fullStateRepresentations shape torch.Size([255, 512]) before passing to decoder\n"
     ]
    }
   ],
   "source": [
    "with open('episode_0_data.pkl', 'rb') as f:\n",
    "    data = pickle.load(f)\n",
    "observations = data['observations'].to(device).float()/255.0\n",
    "actions = data['actions'].to(device).float()\n",
    "rewards = data['rewards'].to(device)\n",
    "episodeLength = len(actions)\n",
    "\n",
    "for i in range(1, numUpdates):\n",
    "    encodedObservations = convEncoder(observations)\n",
    "    initialRecurrentState = sequenceModel.initializeRecurrentState().to(device)\n",
    "\n",
    "    posteriorNetOutputs = []\n",
    "    recurrentStates = [initialRecurrentState]\n",
    "    priorNetLogits = []\n",
    "    posteriorNetLogits = []\n",
    "\n",
    "    for timestep in range(episodeLength):\n",
    "        posteriorNetOutput, posteriorNetCurrentLogits = posteriorNet(torch.cat((recurrentStates[timestep], encodedObservations[timestep]), -1))\n",
    "        posteriorNetOutputs.append(posteriorNetOutput)\n",
    "        posteriorNetLogits.append(posteriorNetCurrentLogits)\n",
    "\n",
    "        recurrentState = sequenceModel(posteriorNetOutputs[timestep].detach(), actions[timestep], recurrentStates[timestep])\n",
    "        recurrentStates.append(recurrentState)\n",
    "\n",
    "        _, priorNetCurrentLogits = priorNet(recurrentStates[timestep])\n",
    "        priorNetLogits.append(priorNetCurrentLogits)\n",
    "\n",
    "    posteriorNetOutputs = torch.stack(posteriorNetOutputs)      # [episodeLength    , representationSize]\n",
    "    recurrentStates = torch.stack(recurrentStates)              # [episodeLength + 1, recurrentStateSize]\n",
    "    priorNetLogits = torch.stack(priorNetLogits)                # [episodeLength    , representationSize]\n",
    "    posteriorNetLogits = torch.stack(posteriorNetLogits)        # [episodeLength    , representationSize]\n",
    "    fullStateRepresentations = torch.cat((recurrentStates[1:], posteriorNetOutputs), -1)\n",
    "\n",
    "    reconstructedObservations = convDecoder(fullStateRepresentations)\n",
    "    predictedRewards = rewardPredictor(fullStateRepresentations)\n",
    "\n",
    "    reconstructionLoss = F.mse_loss(reconstructedObservations, observations[1:], reduction=\"none\").mean(dim=[-1, -2, -3]).mean()\n",
    "    priorNetLoss = F.mse_loss(priorNetLogits, posteriorNetLogits.detach())\n",
    "    rewardPredictorLoss = F.mse_loss(predictedRewards, rewards)\n",
    "\n",
    "    worldModelLoss = reconstructionLoss + priorNetLoss + rewardPredictorLoss\n",
    "\n",
    "    worldModelOptimizer.zero_grad()\n",
    "    worldModelLoss.backward()\n",
    "    worldModelOptimizer.step()\n",
    "\n",
    "    if i % 100 == 0:\n",
    "        print(f\"Completed {i} training steps\")\n"
   ]
  },
  {
   "cell_type": "code",
   "execution_count": 7,
   "metadata": {},
   "outputs": [
    {
     "data": {
      "text/plain": [
       "tensor([2.4200])"
      ]
     },
     "execution_count": 7,
     "metadata": {},
     "output_type": "execute_result"
    }
   ],
   "source": [
    "torch.max(torch.tensor([0.1]), torch.tensor([2.42]))"
   ]
  },
  {
   "cell_type": "code",
   "execution_count": null,
   "metadata": {},
   "outputs": [
    {
     "data": {
      "text/plain": [
       "(torch.Size([255, 256]), torch.Size([255, 256]))"
      ]
     },
     "execution_count": 5,
     "metadata": {},
     "output_type": "execute_result"
    }
   ],
   "source": [
    "priorDistribution       = torch.distributions.Categorical(logits=priorNetLogits)\n",
    "posteriorDistribution   = torch.distributions.Categorical(logits=posteriorNetLogits)\n",
    "priorDistributionSG     = torch.distributions.Categorical(logits=priorNetLogits.detach())\n",
    "posteriorDistributionSG = torch.distributions.Categorical(logits=posteriorNetLogits.detach())\n",
    "\n",
    "priorLoss = torch.max(torch.distributions.kl_divergence(posteriorDistributionSG, priorDistribution))\n",
    "posteriorLoss = torch.max(torch.distributions.kl_divergence(posteriorDistribution, priorDistributionSG))\n"
   ]
  },
  {
   "cell_type": "code",
   "execution_count": 4,
   "metadata": {},
   "outputs": [],
   "source": [
    "saveImage(np.transpose((observations).cpu()[51]*255, (1, 2, 0)).numpy().astype(np.uint8), \"test2.png\")"
   ]
  },
  {
   "cell_type": "code",
   "execution_count": 5,
   "metadata": {},
   "outputs": [
    {
     "data": {
      "text/plain": [
       "numpy.ndarray"
      ]
     },
     "execution_count": 5,
     "metadata": {},
     "output_type": "execute_result"
    }
   ],
   "source": [
    "type(np.transpose((observations).cpu()[51], (1, 2, 0)).numpy())"
   ]
  },
  {
   "cell_type": "code",
   "execution_count": 6,
   "metadata": {},
   "outputs": [
    {
     "data": {
      "image/png": "[encoded data removed]",
      "text/plain": [
       "<Figure size 640x480 with 1 Axes>"
      ]
     },
     "metadata": {},
     "output_type": "display_data"
    }
   ],
   "source": [
    "displayImage(np.transpose(reconstructedObservations.detach().cpu().numpy()[50], (1, 2, 0)))"
   ]
  },
  {
   "cell_type": "code",
   "execution_count": 5,
   "metadata": {},
   "outputs": [
    {
     "name": "stdout",
     "output_type": "stream",
     "text": [
      "Rewards: [1, 0, 0, 1, 0, 2]\n",
      "Values: [0.5, 0.6, 0.4, 0.7, 0.9, 0.8, 0.0]\n",
      "Lambda-returns: [3.45064236 2.57410139 2.71589728 2.8508743  1.9206     2.        ]\n"
     ]
    }
   ],
   "source": [
    "import numpy as np\n",
    "\n",
    "def lambda_return(rewards, values, gamma=0.99, lam=0.95):\n",
    "    \"\"\"\n",
    "    Calculates the lambda-return for a given sequence of rewards and values.\n",
    "    \n",
    "    Parameters:\n",
    "        rewards (list or np.array): Sequence of rewards from time step 0 to T-1.\n",
    "        values (list or np.array): Estimated state values from time step 0 to T.\n",
    "        gamma (float): Discount factor for future rewards, typically between 0 and 1.\n",
    "        lam (float): Lambda parameter controlling bias-variance trade-off, between 0 and 1.\n",
    "    \n",
    "    Returns:\n",
    "        np.array: Array of lambda returns for each time step.\n",
    "    \"\"\"\n",
    "    T = len(rewards)\n",
    "    lambda_returns = np.zeros(T)\n",
    "    G_t = 0\n",
    "\n",
    "    for t in reversed(range(T)):\n",
    "        G_t = rewards[t] + gamma * ((1 - lam) * values[t + 1] + lam * G_t)\n",
    "        lambda_returns[t] = G_t\n",
    "\n",
    "    return lambda_returns\n",
    "\n",
    "# Example trajectory\n",
    "rewards = [1, 0, 0, 1, 0, 2]  # Sample rewards over 6 time steps\n",
    "values = [0.5, 0.6, 0.4, 0.7, 0.9, 0.8, 0.0]  # State values, with extra for bootstrapping\n",
    "\n",
    "# Parameters\n",
    "gamma = 0.99  # Discount factor\n",
    "lam = 0.95    # Lambda parameter\n",
    "\n",
    "# Calculate lambda-returns\n",
    "lambda_returns = lambda_return(rewards, values, gamma, lam)\n",
    "\n",
    "# Display the results\n",
    "print(\"Rewards:\", rewards)\n",
    "print(\"Values:\", values)\n",
    "print(\"Lambda-returns:\", lambda_returns)\n"
   ]
  }
 ],
 "metadata": {
  "kernelspec": {
   "display_name": "venv",
   "language": "python",
   "name": "python3"
  },
  "language_info": {
   "codemirror_mode": {
    "name": "ipython",
    "version": 3
   },
   "file_extension": ".py",
   "mimetype": "text/x-python",
   "name": "python",
   "nbconvert_exporter": "python",
   "pygments_lexer": "ipython3",
   "version": "3.12.3"
  }
 },
 "nbformat": 4,
 "nbformat_minor": 2
}
