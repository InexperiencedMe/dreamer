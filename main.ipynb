{
 "cells": [
  {
   "cell_type": "code",
   "execution_count": 29,
   "metadata": {},
   "outputs": [
    {
     "name": "stdout",
     "output_type": "stream",
     "text": [
      "Env CarRacing-v3 with observations tensor([96, 96,  3]) and actions tensor([3])\n",
      "Total Reward: 2.0862\n",
      "Saving stacked observations of shape: torch.Size([3, 96, 96])\n"
     ]
    }
   ],
   "source": [
    "import gymnasium as gym\n",
    "import numpy as np\n",
    "import torch\n",
    "from utils import *\n",
    "from dreamer import *\n",
    "import pickle\n",
    "torch.set_printoptions(threshold=2000, linewidth=200)\n",
    "np.set_printoptions(threshold=2000, linewidth=200)\n",
    "\n",
    "environmentName = \"CarRacing-v3\"\n",
    "renderMode = None\n",
    "numEpisodes = 1\n",
    "stepCountLimit = 256\n",
    "\n",
    "env = gym.make(environmentName, render_mode=renderMode)\n",
    "observationShape = torch.tensor(env.observation_space.shape)\n",
    "actionSize = torch.tensor(env.action_space.shape) if hasattr(env.action_space, 'shape') else np.array([env.action_space.n])\n",
    "print(f\"Env {environmentName} with observations {observationShape} and actions {actionSize}\")\n",
    "dreamer = Dreamer()\n",
    "\n",
    "for episode in range(numEpisodes):\n",
    "    observation, info = env.reset()\n",
    "    observations, actions, rewards, dones = [observation[:,:,:]], [], [], []\n",
    "    stepCount, totalReward, done = 1, 0, False\n",
    "    while not done:\n",
    "        stepCount += 1\n",
    "        action = env.action_space.sample()*[1, 5, 0.2] # For now random action, scaled so we go a bit forward\n",
    "        observation, reward, terminated, truncated, info = env.step(action)\n",
    "        done = terminated or truncated or stepCount >= stepCountLimit\n",
    "        totalReward += reward\n",
    "        \n",
    "        observations.append(observation[:,:,:]) # cutting out black strip\n",
    "        actions.append(action)\n",
    "        # We will get to those when world model will work\n",
    "        # rewards.append(reward)\n",
    "        # dones.append(done)\n",
    "    print(f\"Total Reward: {totalReward:.4f}\")\n",
    "\n",
    "    with open(f'episode_{episode}_data.pkl', 'wb') as f:\n",
    "        obs = torch.from_numpy(np.transpose(np.stack(observations), (0, 3, 1, 2)))\n",
    "        a = torch.from_numpy(np.stack(actions))\n",
    "        print(f\"Saving stacked observations of shape: {obs[0].shape}\")\n",
    "        pickle.dump({'observations': obs, 'actions': a}, f)\n",
    "    # dreamer.train(observations, actions)#, rewards, dones)\n",
    "env.close()"
   ]
  },
  {
   "cell_type": "code",
   "execution_count": 30,
   "metadata": {},
   "outputs": [
    {
     "data": {
      "text/plain": [
       "(96, 84, 3)"
      ]
     },
     "execution_count": 30,
     "metadata": {},
     "output_type": "execute_result"
    }
   ],
   "source": [
    "observation[:, :-12, :].shape"
   ]
  }
 ],
 "metadata": {
  "kernelspec": {
   "display_name": "venv",
   "language": "python",
   "name": "python3"
  },
  "language_info": {
   "codemirror_mode": {
    "name": "ipython",
    "version": 3
   },
   "file_extension": ".py",
   "mimetype": "text/x-python",
   "name": "python",
   "nbconvert_exporter": "python",
   "pygments_lexer": "ipython3",
   "version": "3.12.3"
  }
 },
 "nbformat": 4,
 "nbformat_minor": 2
}
