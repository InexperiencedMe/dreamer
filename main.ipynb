{
 "cells": [
  {
   "cell_type": "code",
   "execution_count": 1,
   "metadata": {},
   "outputs": [
    {
     "name": "stdout",
     "output_type": "stream",
     "text": [
      "Env CarRacing-v3 with observations tensor([96, 96,  3]) and actions tensor([3])\n",
      "Total Reward: -4.0282\n"
     ]
    }
   ],
   "source": [
    "import gymnasium as gym\n",
    "import numpy as np\n",
    "import torch\n",
    "torch.set_printoptions(threshold=2000, linewidth=200)\n",
    "np.set_printoptions(threshold=2000, linewidth=200)\n",
    "\n",
    "environmentName = \"CarRacing-v3\"\n",
    "renderMode = \"rgb_array\"\n",
    "numEpisodes = 1\n",
    "stepCountLimit = 256\n",
    "\n",
    "env = gym.make(environmentName, render_mode=renderMode)\n",
    "observationShape = torch.tensor(env.observation_space.shape)\n",
    "actionSize = torch.tensor(env.action_space.shape) if hasattr(env.action_space, 'shape') else np.array([env.action_space.n])\n",
    "print(f\"Env {environmentName} with observations {observationShape} and actions {actionSize}\")\n",
    "\n",
    "for episode in range(numEpisodes):\n",
    "    observation, info = env.reset()\n",
    "    observations, actions, rewards, dones = [observation], [], [], []\n",
    "    stepCount, totalReward, done = 1, 0, False\n",
    "    while not done:\n",
    "        action = env.action_space.sample() # For now random action\n",
    "        observation, reward, terminated, truncated, info = env.step(action)\n",
    "        done = terminated or truncated or stepCount > stepCountLimit\n",
    "        totalReward += reward\n",
    "        \n",
    "        observations.append(observation)\n",
    "        actions.append(action)\n",
    "        rewards.append(reward)\n",
    "        dones.append(done)\n",
    "\n",
    "        stepCount += 1\n",
    "        env.render()\n",
    "\n",
    "    print(f\"Total Reward: {totalReward:.4f}\")\n",
    "env.close()"
   ]
  },
  {
   "cell_type": "code",
   "execution_count": 7,
   "metadata": {},
   "outputs": [],
   "source": [
    "from PIL import Image\n",
    "image = Image.fromarray(observation[:-12,:,:])\n",
    "image.save('test2.png')"
   ]
  },
  {
   "cell_type": "code",
   "execution_count": 3,
   "metadata": {},
   "outputs": [
    {
     "name": "stdout",
     "output_type": "stream",
     "text": [
      "torch.Size([3, 96, 96])\n"
     ]
    }
   ],
   "source": [
    "data = torch.randn(96, 96, 3)  # Example tensor\n",
    "inverted_data = data.permute(2, 0, 1)  # Move channels to the front\n",
    "\n",
    "print(inverted_data.shape)"
   ]
  }
 ],
 "metadata": {
  "kernelspec": {
   "display_name": "venv",
   "language": "python",
   "name": "python3"
  },
  "language_info": {
   "codemirror_mode": {
    "name": "ipython",
    "version": 3
   },
   "file_extension": ".py",
   "mimetype": "text/x-python",
   "name": "python",
   "nbconvert_exporter": "python",
   "pygments_lexer": "ipython3",
   "version": "3.12.3"
  }
 },
 "nbformat": 4,
 "nbformat_minor": 2
}
